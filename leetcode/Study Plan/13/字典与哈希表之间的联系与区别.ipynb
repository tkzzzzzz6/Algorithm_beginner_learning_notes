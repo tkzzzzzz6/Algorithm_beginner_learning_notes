{
 "cells": [
  {
   "cell_type": "code",
   "execution_count": 2,
   "metadata": {},
   "outputs": [
    {
     "name": "stdout",
     "output_type": "stream",
     "text": [
      "1\n",
      "dict_keys(['apple', 'banana', 'cherry', 'date'])\n",
      "apple: 1\n",
      "banana: 2\n",
      "cherry: 3\n",
      "date: 4\n"
     ]
    }
   ],
   "source": [
    "# 创建一个字典\n",
    "my_dict = {'apple': 1, 'banana': 2, 'cherry': 3}\n",
    "\n",
    "# 访问元素\n",
    "print(my_dict['apple'])  # 输出: 1\n",
    "\n",
    "# 添加新元素\n",
    "my_dict['date'] = 4\n",
    "\n",
    "# 使用字典方法\n",
    "print(my_dict.keys())  # 输出: dict_keys(['apple', 'banana', 'cherry', 'date'])\n",
    "\n",
    "# 遍历字典\n",
    "for key, value in my_dict.items():\n",
    "    print(f\"{key}: {value}\")"
   ]
  },
  {
   "cell_type": "code",
   "execution_count": 3,
   "metadata": {},
   "outputs": [
    {
     "name": "stdout",
     "output_type": "stream",
     "text": [
      "5\n",
      "Key not found\n"
     ]
    }
   ],
   "source": [
    "class SimpleHashTable:\n",
    "    def __init__(self, size=10):\n",
    "        self.size = size\n",
    "        self.table = [[] for _ in range(self.size)]\n",
    "    \n",
    "    def _hash(self, key):\n",
    "        return hash(key) % self.size\n",
    "    \n",
    "    def insert(self, key, value):\n",
    "        index = self._hash(key)\n",
    "        for item in self.table[index]:\n",
    "            if item[0] == key:\n",
    "                item[1] = value\n",
    "                return\n",
    "        self.table[index].append([key, value])\n",
    "    \n",
    "    def get(self, key):\n",
    "        index = self._hash(key)\n",
    "        for item in self.table[index]:\n",
    "            if item[0] == key:\n",
    "                return item[1]\n",
    "        raise KeyError(key)\n",
    "    \n",
    "    def remove(self, key):\n",
    "        index = self._hash(key)\n",
    "        for i, item in enumerate(self.table[index]):\n",
    "            if item[0] == key:\n",
    "                del self.table[index][i]\n",
    "                return\n",
    "        raise KeyError(key)\n",
    "\n",
    "# 使用示例\n",
    "hash_table = SimpleHashTable()\n",
    "hash_table.insert(\"apple\", 5)\n",
    "hash_table.insert(\"banana\", 7)\n",
    "print(hash_table.get(\"apple\"))  # 输出: 5\n",
    "hash_table.remove(\"apple\")\n",
    "try:\n",
    "    print(hash_table.get(\"apple\"))\n",
    "except KeyError:\n",
    "    print(\"Key not found\")  # 输出: Key not found\n"
   ]
  }
 ],
 "metadata": {
  "kernelspec": {
   "display_name": "t1",
   "language": "python",
   "name": "python3"
  },
  "language_info": {
   "codemirror_mode": {
    "name": "ipython",
    "version": 3
   },
   "file_extension": ".py",
   "mimetype": "text/x-python",
   "name": "python",
   "nbconvert_exporter": "python",
   "pygments_lexer": "ipython3",
   "version": "3.10.13"
  }
 },
 "nbformat": 4,
 "nbformat_minor": 2
}
