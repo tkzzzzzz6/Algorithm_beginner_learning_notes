{
 "cells": [
  {
   "cell_type": "markdown",
   "metadata": {},
   "source": [
    "# 一、中缀表达式\n",
    "中缀表达式是我们在日常生活和数学中最常用的表达式形式。让我为您详细解释中缀表达式的概念、特点和作用。\n",
    "\n",
    "中缀表达式的定义：\n",
    "中缀表达式是一种算术表达式的书写方式，其中操作符位于操作数之间。例如：3 + 4、(5 - 2) * 6。\n",
    "\n",
    "特点：\n",
    "1. 操作符位置：操作符位于两个操作数之间。\n",
    "2. 易读性：对人类来说，这是最容易阅读和理解的表达式形式。\n",
    "3. 优先级：使用括号来明确表示运算优先级。\n",
    "\n",
    "作用：\n",
    "1. 直观表达：最接近人类思维方式的数学表达形式。\n",
    "2. 日常使用：在日常书写和交流中广泛使用。\n",
    "3. 编程输入：许多编程语言使用中缀表达式作为算术表达式的输入形式。\n",
    "\n",
    "然而，中缀表达式也有一些限制，特别是在计算机处理方面：\n",
    "\n",
    "1. 解析复杂：相比前缀或后缀表达式，计算机解析中缀表达式更复杂。\n",
    "2. 需要额外处理：计算机通常需要将中缀表达式转换为其他形式（如后缀表达式）来进行计算。\n",
    "\n",
    "为了更好地理解中缀表达式，让我们看一个简单的例子：\n"
   ]
  },
  {
   "cell_type": "code",
   "execution_count": 2,
   "metadata": {},
   "outputs": [
    {
     "name": "stdout",
     "output_type": "stream",
     "text": [
      "1.0\n",
      "22.0\n",
      "1400.0\n"
     ]
    }
   ],
   "source": [
    "import operator\n",
    "\n",
    "def calculate(expression):\n",
    "    # 定义操作符和优先级\n",
    "    operators = {'+': (1, operator.add), '-': (1, operator.sub),\n",
    "                 '*': (2, operator.mul), '/': (2, operator.truediv)}\n",
    "    \n",
    "    def parse(formula_string):\n",
    "        number = ''\n",
    "        for s in formula_string:\n",
    "            if s in '0123456789.':\n",
    "                number += s\n",
    "            elif number:\n",
    "                yield float(number)\n",
    "                number = ''\n",
    "            if s in operators or s in '()':\n",
    "                yield s\n",
    "        if number:\n",
    "            yield float(number)\n",
    "    \n",
    "    def shunting_yard(parsed_formula):\n",
    "        stack = []\n",
    "        for token in parsed_formula:\n",
    "            if isinstance(token, float):\n",
    "                yield token\n",
    "            elif token == '(':\n",
    "                stack.append(token)\n",
    "            elif token == ')':\n",
    "                while stack and stack[-1] != '(':\n",
    "                    yield stack.pop()\n",
    "                stack.pop()  # discard '('\n",
    "            elif token in operators:\n",
    "                while stack and stack[-1] != '(' and operators[token][0] <= operators[stack[-1]][0]:\n",
    "                    yield stack.pop()\n",
    "                stack.append(token)\n",
    "        while stack:\n",
    "            yield stack.pop()\n",
    "    \n",
    "    def evaluate(rpn):\n",
    "        stack = []\n",
    "        for token in rpn:\n",
    "            if isinstance(token, float):\n",
    "                stack.append(token)\n",
    "            else:\n",
    "                b, a = stack.pop(), stack.pop()\n",
    "                stack.append(operators[token][1](a, b))\n",
    "        return stack[0]\n",
    "\n",
    "    return evaluate(shunting_yard(parse(expression)))\n",
    "\n",
    "# 使用示例\n",
    "print(calculate(\"3 + 4 * 2 / (1 - 5)\"))  # 输出: 1.0\n",
    "print(calculate(\"10 + 2 * 6\"))  # 输出: 22.0\n",
    "print(calculate(\"100 * (2 + 12)\"))  # 输出: 1400.0"
   ]
  },
  {
   "cell_type": "markdown",
   "metadata": {},
   "source": [
    "这个例子展示了如何处理和计算中缀表达式：\n",
    "\n",
    "1. 首先，我们定义了一个解析函数 `parse`，将字符串转换为 token。\n",
    "2. 然后，使用 Shunting Yard 算法将中缀表达式转换为后缀表达式（逆波兰表示法）。\n",
    "3. 最后，我们计算后缀表达式的值。\n",
    "\n",
    "这个过程展示了中缀表达式的作用和处理方法：\n",
    "- 它允许我们以自然的方式输入数学表达式。\n",
    "- 但为了计算，我们需要将其转换为计算机更容易处理的形式（这里是后缀表达式）。\n",
    "\n",
    "中缀表达式在编程和数学中有广泛的应用，尤其是在：\n",
    "1. 计算器应用\n",
    "2. 数学表达式求值\n",
    "3. 公式编辑器\n",
    "4. 编程语言的算术表达式\n",
    "\n",
    "总的来说，中缀表达式是连接人类直观思维和计算机处理之间的桥梁，在日常使用和程序设计中都扮演着重要角色。\n"
   ]
  },
  {
   "cell_type": "markdown",
   "metadata": {},
   "source": [
    "# 2. python中的operator库\n"
   ]
  },
  {
   "cell_type": "markdown",
   "metadata": {},
   "source": [
    "[`operator`](command:_github.copilot.openSymbolFromReferences?%5B%22operator%22%2C%5B%7B%22uri%22%3A%7B%22%24mid%22%3A1%2C%22fsPath%22%3A%22d%3A%5C%5Calgorithm%5C%5Cleetcode%5C%5C20%5C%5C%E4%B8%AD%E7%BC%80%E8%A1%A8%E8%BE%BE%E5%BC%8F.ipynb%22%2C%22_sep%22%3A1%2C%22external%22%3A%22vscode-notebook-cell%3A%2Fd%253A%2Falgorithm%2Fleetcode%2F20%2F%25E4%25B8%25AD%25E7%25BC%2580%25E8%25A1%25A8%25E8%25BE%25BE%25E5%25BC%258F.ipynb%23W0sZmlsZQ%253D%253D%22%2C%22path%22%3A%22%2Fd%3A%2Falgorithm%2Fleetcode%2F20%2F%E4%B8%AD%E7%BC%80%E8%A1%A8%E8%BE%BE%E5%BC%8F.ipynb%22%2C%22scheme%22%3A%22vscode-notebook-cell%22%2C%22fragment%22%3A%22W0sZmlsZQ%3D%3D%22%7D%2C%22pos%22%3A%7B%22line%22%3A0%2C%22character%22%3A7%7D%7D%5D%5D \"Go to definition\") 模块是 Python 标准库中的一个模块，提供了一组函数来实现标准的算术运算符、比较运算符和逻辑运算符。这些函数可以用于替代内置的运算符，特别是在需要将运算符作为函数传递时非常有用。\n",
    "\n",
    "### 常用的 [`operator`](command:_github.copilot.openSymbolFromReferences?%5B%22operator%22%2C%5B%7B%22uri%22%3A%7B%22%24mid%22%3A1%2C%22fsPath%22%3A%22d%3A%5C%5Calgorithm%5C%5Cleetcode%5C%5C20%5C%5C%E4%B8%AD%E7%BC%80%E8%A1%A8%E8%BE%BE%E5%BC%8F.ipynb%22%2C%22_sep%22%3A1%2C%22external%22%3A%22vscode-notebook-cell%3A%2Fd%253A%2Falgorithm%2Fleetcode%2F20%2F%25E4%25B8%25AD%25E7%25BC%2580%25E8%25A1%25A8%25E8%25BE%25BE%25E5%25BC%258F.ipynb%23W0sZmlsZQ%253D%253D%22%2C%22path%22%3A%22%2Fd%3A%2Falgorithm%2Fleetcode%2F20%2F%E4%B8%AD%E7%BC%80%E8%A1%A8%E8%BE%BE%E5%BC%8F.ipynb%22%2C%22scheme%22%3A%22vscode-notebook-cell%22%2C%22fragment%22%3A%22W0sZmlsZQ%3D%3D%22%7D%2C%22pos%22%3A%7B%22line%22%3A0%2C%22character%22%3A7%7D%7D%5D%5D \"Go to definition\") 函数\n",
    "\n",
    "1. **算术运算符**：\n",
    "   - [`operator.add(a, b)`](command:_github.copilot.openSymbolFromReferences?%5B%22operator.add(a%2C%20b)%22%2C%5B%7B%22uri%22%3A%7B%22%24mid%22%3A1%2C%22fsPath%22%3A%22d%3A%5C%5Calgorithm%5C%5Cleetcode%5C%5C20%5C%5C%E4%B8%AD%E7%BC%80%E8%A1%A8%E8%BE%BE%E5%BC%8F.ipynb%22%2C%22_sep%22%3A1%2C%22external%22%3A%22vscode-notebook-cell%3A%2Fd%253A%2Falgorithm%2Fleetcode%2F20%2F%25E4%25B8%25AD%25E7%25BC%2580%25E8%25A1%25A8%25E8%25BE%25BE%25E5%25BC%258F.ipynb%23W0sZmlsZQ%253D%253D%22%2C%22path%22%3A%22%2Fd%3A%2Falgorithm%2Fleetcode%2F20%2F%E4%B8%AD%E7%BC%80%E8%A1%A8%E8%BE%BE%E5%BC%8F.ipynb%22%2C%22scheme%22%3A%22vscode-notebook-cell%22%2C%22fragment%22%3A%22W0sZmlsZQ%3D%3D%22%7D%2C%22pos%22%3A%7B%22line%22%3A0%2C%22character%22%3A7%7D%7D%5D%5D \"Go to definition\")：相当于 [`a + b`](command:_github.copilot.openSymbolFromReferences?%5B%22a%20%2B%20b%22%2C%5B%7B%22uri%22%3A%7B%22%24mid%22%3A1%2C%22fsPath%22%3A%22d%3A%5C%5Calgorithm%5C%5Cleetcode%5C%5C20%5C%5C%E4%B8%AD%E7%BC%80%E8%A1%A8%E8%BE%BE%E5%BC%8F.ipynb%22%2C%22_sep%22%3A1%2C%22external%22%3A%22vscode-notebook-cell%3A%2Fd%253A%2Falgorithm%2Fleetcode%2F20%2F%25E4%25B8%25AD%25E7%25BC%2580%25E8%25A1%25A8%25E8%25BE%25BE%25E5%25BC%258F.ipynb%23W0sZmlsZQ%253D%253D%22%2C%22path%22%3A%22%2Fd%3A%2Falgorithm%2Fleetcode%2F20%2F%E4%B8%AD%E7%BC%80%E8%A1%A8%E8%BE%BE%E5%BC%8F.ipynb%22%2C%22scheme%22%3A%22vscode-notebook-cell%22%2C%22fragment%22%3A%22W0sZmlsZQ%3D%3D%22%7D%2C%22pos%22%3A%7B%22line%22%3A44%2C%22character%22%3A19%7D%7D%5D%5D \"Go to definition\")\n",
    "   - [`operator.sub(a, b)`](command:_github.copilot.openSymbolFromReferences?%5B%22operator.sub(a%2C%20b)%22%2C%5B%7B%22uri%22%3A%7B%22%24mid%22%3A1%2C%22fsPath%22%3A%22d%3A%5C%5Calgorithm%5C%5Cleetcode%5C%5C20%5C%5C%E4%B8%AD%E7%BC%80%E8%A1%A8%E8%BE%BE%E5%BC%8F.ipynb%22%2C%22_sep%22%3A1%2C%22external%22%3A%22vscode-notebook-cell%3A%2Fd%253A%2Falgorithm%2Fleetcode%2F20%2F%25E4%25B8%25AD%25E7%25BC%2580%25E8%25A1%25A8%25E8%25BE%25BE%25E5%25BC%258F.ipynb%23W0sZmlsZQ%253D%253D%22%2C%22path%22%3A%22%2Fd%3A%2Falgorithm%2Fleetcode%2F20%2F%E4%B8%AD%E7%BC%80%E8%A1%A8%E8%BE%BE%E5%BC%8F.ipynb%22%2C%22scheme%22%3A%22vscode-notebook-cell%22%2C%22fragment%22%3A%22W0sZmlsZQ%3D%3D%22%7D%2C%22pos%22%3A%7B%22line%22%3A0%2C%22character%22%3A7%7D%7D%5D%5D \"Go to definition\")：相当于 [`a - b`](command:_github.copilot.openSymbolFromReferences?%5B%22a%20-%20b%22%2C%5B%7B%22uri%22%3A%7B%22%24mid%22%3A1%2C%22fsPath%22%3A%22d%3A%5C%5Calgorithm%5C%5Cleetcode%5C%5C20%5C%5C%E4%B8%AD%E7%BC%80%E8%A1%A8%E8%BE%BE%E5%BC%8F.ipynb%22%2C%22_sep%22%3A1%2C%22external%22%3A%22vscode-notebook-cell%3A%2Fd%253A%2Falgorithm%2Fleetcode%2F20%2F%25E4%25B8%25AD%25E7%25BC%2580%25E8%25A1%25A8%25E8%25BE%25BE%25E5%25BC%258F.ipynb%23W0sZmlsZQ%253D%253D%22%2C%22path%22%3A%22%2Fd%3A%2Falgorithm%2Fleetcode%2F20%2F%E4%B8%AD%E7%BC%80%E8%A1%A8%E8%BE%BE%E5%BC%8F.ipynb%22%2C%22scheme%22%3A%22vscode-notebook-cell%22%2C%22fragment%22%3A%22W0sZmlsZQ%3D%3D%22%7D%2C%22pos%22%3A%7B%22line%22%3A44%2C%22character%22%3A19%7D%7D%5D%5D \"Go to definition\")\n",
    "   - [`operator.mul(a, b)`](command:_github.copilot.openSymbolFromReferences?%5B%22operator.mul(a%2C%20b)%22%2C%5B%7B%22uri%22%3A%7B%22%24mid%22%3A1%2C%22fsPath%22%3A%22d%3A%5C%5Calgorithm%5C%5Cleetcode%5C%5C20%5C%5C%E4%B8%AD%E7%BC%80%E8%A1%A8%E8%BE%BE%E5%BC%8F.ipynb%22%2C%22_sep%22%3A1%2C%22external%22%3A%22vscode-notebook-cell%3A%2Fd%253A%2Falgorithm%2Fleetcode%2F20%2F%25E4%25B8%25AD%25E7%25BC%2580%25E8%25A1%25A8%25E8%25BE%25BE%25E5%25BC%258F.ipynb%23W0sZmlsZQ%253D%253D%22%2C%22path%22%3A%22%2Fd%3A%2Falgorithm%2Fleetcode%2F20%2F%E4%B8%AD%E7%BC%80%E8%A1%A8%E8%BE%BE%E5%BC%8F.ipynb%22%2C%22scheme%22%3A%22vscode-notebook-cell%22%2C%22fragment%22%3A%22W0sZmlsZQ%3D%3D%22%7D%2C%22pos%22%3A%7B%22line%22%3A0%2C%22character%22%3A7%7D%7D%5D%5D \"Go to definition\")：相当于 [`a * b`](command:_github.copilot.openSymbolFromReferences?%5B%22a%20*%20b%22%2C%5B%7B%22uri%22%3A%7B%22%24mid%22%3A1%2C%22fsPath%22%3A%22d%3A%5C%5Calgorithm%5C%5Cleetcode%5C%5C20%5C%5C%E4%B8%AD%E7%BC%80%E8%A1%A8%E8%BE%BE%E5%BC%8F.ipynb%22%2C%22_sep%22%3A1%2C%22external%22%3A%22vscode-notebook-cell%3A%2Fd%253A%2Falgorithm%2Fleetcode%2F20%2F%25E4%25B8%25AD%25E7%25BC%2580%25E8%25A1%25A8%25E8%25BE%25BE%25E5%25BC%258F.ipynb%23W0sZmlsZQ%253D%253D%22%2C%22path%22%3A%22%2Fd%3A%2Falgorithm%2Fleetcode%2F20%2F%E4%B8%AD%E7%BC%80%E8%A1%A8%E8%BE%BE%E5%BC%8F.ipynb%22%2C%22scheme%22%3A%22vscode-notebook-cell%22%2C%22fragment%22%3A%22W0sZmlsZQ%3D%3D%22%7D%2C%22pos%22%3A%7B%22line%22%3A44%2C%22character%22%3A19%7D%7D%5D%5D \"Go to definition\")\n",
    "   - [`operator.truediv(a, b)`](command:_github.copilot.openSymbolFromReferences?%5B%22operator.truediv(a%2C%20b)%22%2C%5B%7B%22uri%22%3A%7B%22%24mid%22%3A1%2C%22fsPath%22%3A%22d%3A%5C%5Calgorithm%5C%5Cleetcode%5C%5C20%5C%5C%E4%B8%AD%E7%BC%80%E8%A1%A8%E8%BE%BE%E5%BC%8F.ipynb%22%2C%22_sep%22%3A1%2C%22external%22%3A%22vscode-notebook-cell%3A%2Fd%253A%2Falgorithm%2Fleetcode%2F20%2F%25E4%25B8%25AD%25E7%25BC%2580%25E8%25A1%25A8%25E8%25BE%25BE%25E5%25BC%258F.ipynb%23W0sZmlsZQ%253D%253D%22%2C%22path%22%3A%22%2Fd%3A%2Falgorithm%2Fleetcode%2F20%2F%E4%B8%AD%E7%BC%80%E8%A1%A8%E8%BE%BE%E5%BC%8F.ipynb%22%2C%22scheme%22%3A%22vscode-notebook-cell%22%2C%22fragment%22%3A%22W0sZmlsZQ%3D%3D%22%7D%2C%22pos%22%3A%7B%22line%22%3A0%2C%22character%22%3A7%7D%7D%5D%5D \"Go to definition\")：相当于 [`a / b`](command:_github.copilot.openSymbolFromReferences?%5B%22a%20%2F%20b%22%2C%5B%7B%22uri%22%3A%7B%22%24mid%22%3A1%2C%22fsPath%22%3A%22d%3A%5C%5Calgorithm%5C%5Cleetcode%5C%5C20%5C%5C%E4%B8%AD%E7%BC%80%E8%A1%A8%E8%BE%BE%E5%BC%8F.ipynb%22%2C%22_sep%22%3A1%2C%22external%22%3A%22vscode-notebook-cell%3A%2Fd%253A%2Falgorithm%2Fleetcode%2F20%2F%25E4%25B8%25AD%25E7%25BC%2580%25E8%25A1%25A8%25E8%25BE%25BE%25E5%25BC%258F.ipynb%23W0sZmlsZQ%253D%253D%22%2C%22path%22%3A%22%2Fd%3A%2Falgorithm%2Fleetcode%2F20%2F%E4%B8%AD%E7%BC%80%E8%A1%A8%E8%BE%BE%E5%BC%8F.ipynb%22%2C%22scheme%22%3A%22vscode-notebook-cell%22%2C%22fragment%22%3A%22W0sZmlsZQ%3D%3D%22%7D%2C%22pos%22%3A%7B%22line%22%3A44%2C%22character%22%3A19%7D%7D%5D%5D \"Go to definition\")\n",
    "   - [`operator.floordiv(a, b)`](command:_github.copilot.openSymbolFromReferences?%5B%22operator.floordiv(a%2C%20b)%22%2C%5B%7B%22uri%22%3A%7B%22%24mid%22%3A1%2C%22fsPath%22%3A%22d%3A%5C%5Calgorithm%5C%5Cleetcode%5C%5C20%5C%5C%E4%B8%AD%E7%BC%80%E8%A1%A8%E8%BE%BE%E5%BC%8F.ipynb%22%2C%22_sep%22%3A1%2C%22external%22%3A%22vscode-notebook-cell%3A%2Fd%253A%2Falgorithm%2Fleetcode%2F20%2F%25E4%25B8%25AD%25E7%25BC%2580%25E8%25A1%25A8%25E8%25BE%25BE%25E5%25BC%258F.ipynb%23W0sZmlsZQ%253D%253D%22%2C%22path%22%3A%22%2Fd%3A%2Falgorithm%2Fleetcode%2F20%2F%E4%B8%AD%E7%BC%80%E8%A1%A8%E8%BE%BE%E5%BC%8F.ipynb%22%2C%22scheme%22%3A%22vscode-notebook-cell%22%2C%22fragment%22%3A%22W0sZmlsZQ%3D%3D%22%7D%2C%22pos%22%3A%7B%22line%22%3A0%2C%22character%22%3A7%7D%7D%5D%5D \"Go to definition\")：相当于 [`a // b`](command:_github.copilot.openSymbolFromReferences?%5B%22a%20%2F%2F%20b%22%2C%5B%7B%22uri%22%3A%7B%22%24mid%22%3A1%2C%22fsPath%22%3A%22d%3A%5C%5Calgorithm%5C%5Cleetcode%5C%5C20%5C%5C%E4%B8%AD%E7%BC%80%E8%A1%A8%E8%BE%BE%E5%BC%8F.ipynb%22%2C%22_sep%22%3A1%2C%22external%22%3A%22vscode-notebook-cell%3A%2Fd%253A%2Falgorithm%2Fleetcode%2F20%2F%25E4%25B8%25AD%25E7%25BC%2580%25E8%25A1%25A8%25E8%25BE%25BE%25E5%25BC%258F.ipynb%23W0sZmlsZQ%253D%253D%22%2C%22path%22%3A%22%2Fd%3A%2Falgorithm%2Fleetcode%2F20%2F%E4%B8%AD%E7%BC%80%E8%A1%A8%E8%BE%BE%E5%BC%8F.ipynb%22%2C%22scheme%22%3A%22vscode-notebook-cell%22%2C%22fragment%22%3A%22W0sZmlsZQ%3D%3D%22%7D%2C%22pos%22%3A%7B%22line%22%3A44%2C%22character%22%3A19%7D%7D%5D%5D \"Go to definition\")\n",
    "   - [`operator.mod(a, b)`](command:_github.copilot.openSymbolFromReferences?%5B%22operator.mod(a%2C%20b)%22%2C%5B%7B%22uri%22%3A%7B%22%24mid%22%3A1%2C%22fsPath%22%3A%22d%3A%5C%5Calgorithm%5C%5Cleetcode%5C%5C20%5C%5C%E4%B8%AD%E7%BC%80%E8%A1%A8%E8%BE%BE%E5%BC%8F.ipynb%22%2C%22_sep%22%3A1%2C%22external%22%3A%22vscode-notebook-cell%3A%2Fd%253A%2Falgorithm%2Fleetcode%2F20%2F%25E4%25B8%25AD%25E7%25BC%2580%25E8%25A1%25A8%25E8%25BE%25BE%25E5%25BC%258F.ipynb%23W0sZmlsZQ%253D%253D%22%2C%22path%22%3A%22%2Fd%3A%2Falgorithm%2Fleetcode%2F20%2F%E4%B8%AD%E7%BC%80%E8%A1%A8%E8%BE%BE%E5%BC%8F.ipynb%22%2C%22scheme%22%3A%22vscode-notebook-cell%22%2C%22fragment%22%3A%22W0sZmlsZQ%3D%3D%22%7D%2C%22pos%22%3A%7B%22line%22%3A0%2C%22character%22%3A7%7D%7D%5D%5D \"Go to definition\")：相当于 [`a % b`](command:_github.copilot.openSymbolFromReferences?%5B%22a%20%25%20b%22%2C%5B%7B%22uri%22%3A%7B%22%24mid%22%3A1%2C%22fsPath%22%3A%22d%3A%5C%5Calgorithm%5C%5Cleetcode%5C%5C20%5C%5C%E4%B8%AD%E7%BC%80%E8%A1%A8%E8%BE%BE%E5%BC%8F.ipynb%22%2C%22_sep%22%3A1%2C%22external%22%3A%22vscode-notebook-cell%3A%2Fd%253A%2Falgorithm%2Fleetcode%2F20%2F%25E4%25B8%25AD%25E7%25BC%2580%25E8%25A1%25A8%25E8%25BE%25BE%25E5%25BC%258F.ipynb%23W0sZmlsZQ%253D%253D%22%2C%22path%22%3A%22%2Fd%3A%2Falgorithm%2Fleetcode%2F20%2F%E4%B8%AD%E7%BC%80%E8%A1%A8%E8%BE%BE%E5%BC%8F.ipynb%22%2C%22scheme%22%3A%22vscode-notebook-cell%22%2C%22fragment%22%3A%22W0sZmlsZQ%3D%3D%22%7D%2C%22pos%22%3A%7B%22line%22%3A44%2C%22character%22%3A19%7D%7D%5D%5D \"Go to definition\")\n",
    "   - [`operator.pow(a, b)`](command:_github.copilot.openSymbolFromReferences?%5B%22operator.pow(a%2C%20b)%22%2C%5B%7B%22uri%22%3A%7B%22%24mid%22%3A1%2C%22fsPath%22%3A%22d%3A%5C%5Calgorithm%5C%5Cleetcode%5C%5C20%5C%5C%E4%B8%AD%E7%BC%80%E8%A1%A8%E8%BE%BE%E5%BC%8F.ipynb%22%2C%22_sep%22%3A1%2C%22external%22%3A%22vscode-notebook-cell%3A%2Fd%253A%2Falgorithm%2Fleetcode%2F20%2F%25E4%25B8%25AD%25E7%25BC%2580%25E8%25A1%25A8%25E8%25BE%25BE%25E5%25BC%258F.ipynb%23W0sZmlsZQ%253D%253D%22%2C%22path%22%3A%22%2Fd%3A%2Falgorithm%2Fleetcode%2F20%2F%E4%B8%AD%E7%BC%80%E8%A1%A8%E8%BE%BE%E5%BC%8F.ipynb%22%2C%22scheme%22%3A%22vscode-notebook-cell%22%2C%22fragment%22%3A%22W0sZmlsZQ%3D%3D%22%7D%2C%22pos%22%3A%7B%22line%22%3A0%2C%22character%22%3A7%7D%7D%5D%5D \"Go to definition\")：相当于 [`a ** b`](command:_github.copilot.openSymbolFromReferences?%5B%22a%20**%20b%22%2C%5B%7B%22uri%22%3A%7B%22%24mid%22%3A1%2C%22fsPath%22%3A%22d%3A%5C%5Calgorithm%5C%5Cleetcode%5C%5C20%5C%5C%E4%B8%AD%E7%BC%80%E8%A1%A8%E8%BE%BE%E5%BC%8F.ipynb%22%2C%22_sep%22%3A1%2C%22external%22%3A%22vscode-notebook-cell%3A%2Fd%253A%2Falgorithm%2Fleetcode%2F20%2F%25E4%25B8%25AD%25E7%25BC%2580%25E8%25A1%25A8%25E8%25BE%25BE%25E5%25BC%258F.ipynb%23W0sZmlsZQ%253D%253D%22%2C%22path%22%3A%22%2Fd%3A%2Falgorithm%2Fleetcode%2F20%2F%E4%B8%AD%E7%BC%80%E8%A1%A8%E8%BE%BE%E5%BC%8F.ipynb%22%2C%22scheme%22%3A%22vscode-notebook-cell%22%2C%22fragment%22%3A%22W0sZmlsZQ%3D%3D%22%7D%2C%22pos%22%3A%7B%22line%22%3A44%2C%22character%22%3A19%7D%7D%5D%5D \"Go to definition\")\n",
    "\n",
    "2. **比较运算符**：\n",
    "   - [`operator.eq(a, b)`](command:_github.copilot.openSymbolFromReferences?%5B%22operator.eq(a%2C%20b)%22%2C%5B%7B%22uri%22%3A%7B%22%24mid%22%3A1%2C%22fsPath%22%3A%22d%3A%5C%5Calgorithm%5C%5Cleetcode%5C%5C20%5C%5C%E4%B8%AD%E7%BC%80%E8%A1%A8%E8%BE%BE%E5%BC%8F.ipynb%22%2C%22_sep%22%3A1%2C%22external%22%3A%22vscode-notebook-cell%3A%2Fd%253A%2Falgorithm%2Fleetcode%2F20%2F%25E4%25B8%25AD%25E7%25BC%2580%25E8%25A1%25A8%25E8%25BE%25BE%25E5%25BC%258F.ipynb%23W0sZmlsZQ%253D%253D%22%2C%22path%22%3A%22%2Fd%3A%2Falgorithm%2Fleetcode%2F20%2F%E4%B8%AD%E7%BC%80%E8%A1%A8%E8%BE%BE%E5%BC%8F.ipynb%22%2C%22scheme%22%3A%22vscode-notebook-cell%22%2C%22fragment%22%3A%22W0sZmlsZQ%3D%3D%22%7D%2C%22pos%22%3A%7B%22line%22%3A0%2C%22character%22%3A7%7D%7D%5D%5D \"Go to definition\")：相当于 [`a == b`](command:_github.copilot.openSymbolFromReferences?%5B%22a%20%3D%3D%20b%22%2C%5B%7B%22uri%22%3A%7B%22%24mid%22%3A1%2C%22fsPath%22%3A%22d%3A%5C%5Calgorithm%5C%5Cleetcode%5C%5C20%5C%5C%E4%B8%AD%E7%BC%80%E8%A1%A8%E8%BE%BE%E5%BC%8F.ipynb%22%2C%22_sep%22%3A1%2C%22external%22%3A%22vscode-notebook-cell%3A%2Fd%253A%2Falgorithm%2Fleetcode%2F20%2F%25E4%25B8%25AD%25E7%25BC%2580%25E8%25A1%25A8%25E8%25BE%25BE%25E5%25BC%258F.ipynb%23W0sZmlsZQ%253D%253D%22%2C%22path%22%3A%22%2Fd%3A%2Falgorithm%2Fleetcode%2F20%2F%E4%B8%AD%E7%BC%80%E8%A1%A8%E8%BE%BE%E5%BC%8F.ipynb%22%2C%22scheme%22%3A%22vscode-notebook-cell%22%2C%22fragment%22%3A%22W0sZmlsZQ%3D%3D%22%7D%2C%22pos%22%3A%7B%22line%22%3A44%2C%22character%22%3A19%7D%7D%5D%5D \"Go to definition\")\n",
    "   - [`operator.ne(a, b)`](command:_github.copilot.openSymbolFromReferences?%5B%22operator.ne(a%2C%20b)%22%2C%5B%7B%22uri%22%3A%7B%22%24mid%22%3A1%2C%22fsPath%22%3A%22d%3A%5C%5Calgorithm%5C%5Cleetcode%5C%5C20%5C%5C%E4%B8%AD%E7%BC%80%E8%A1%A8%E8%BE%BE%E5%BC%8F.ipynb%22%2C%22_sep%22%3A1%2C%22external%22%3A%22vscode-notebook-cell%3A%2Fd%253A%2Falgorithm%2Fleetcode%2F20%2F%25E4%25B8%25AD%25E7%25BC%2580%25E8%25A1%25A8%25E8%25BE%25BE%25E5%25BC%258F.ipynb%23W0sZmlsZQ%253D%253D%22%2C%22path%22%3A%22%2Fd%3A%2Falgorithm%2Fleetcode%2F20%2F%E4%B8%AD%E7%BC%80%E8%A1%A8%E8%BE%BE%E5%BC%8F.ipynb%22%2C%22scheme%22%3A%22vscode-notebook-cell%22%2C%22fragment%22%3A%22W0sZmlsZQ%3D%3D%22%7D%2C%22pos%22%3A%7B%22line%22%3A0%2C%22character%22%3A7%7D%7D%5D%5D \"Go to definition\")：相当于 [`a != b`](command:_github.copilot.openSymbolFromReferences?%5B%22a%20!%3D%20b%22%2C%5B%7B%22uri%22%3A%7B%22%24mid%22%3A1%2C%22fsPath%22%3A%22d%3A%5C%5Calgorithm%5C%5Cleetcode%5C%5C20%5C%5C%E4%B8%AD%E7%BC%80%E8%A1%A8%E8%BE%BE%E5%BC%8F.ipynb%22%2C%22_sep%22%3A1%2C%22external%22%3A%22vscode-notebook-cell%3A%2Fd%253A%2Falgorithm%2Fleetcode%2F20%2F%25E4%25B8%25AD%25E7%25BC%2580%25E8%25A1%25A8%25E8%25BE%25BE%25E5%25BC%258F.ipynb%23W0sZmlsZQ%253D%253D%22%2C%22path%22%3A%22%2Fd%3A%2Falgorithm%2Fleetcode%2F20%2F%E4%B8%AD%E7%BC%80%E8%A1%A8%E8%BE%BE%E5%BC%8F.ipynb%22%2C%22scheme%22%3A%22vscode-notebook-cell%22%2C%22fragment%22%3A%22W0sZmlsZQ%3D%3D%22%7D%2C%22pos%22%3A%7B%22line%22%3A44%2C%22character%22%3A19%7D%7D%5D%5D \"Go to definition\")\n",
    "   - [`operator.lt(a, b)`](command:_github.copilot.openSymbolFromReferences?%5B%22operator.lt(a%2C%20b)%22%2C%5B%7B%22uri%22%3A%7B%22%24mid%22%3A1%2C%22fsPath%22%3A%22d%3A%5C%5Calgorithm%5C%5Cleetcode%5C%5C20%5C%5C%E4%B8%AD%E7%BC%80%E8%A1%A8%E8%BE%BE%E5%BC%8F.ipynb%22%2C%22_sep%22%3A1%2C%22external%22%3A%22vscode-notebook-cell%3A%2Fd%253A%2Falgorithm%2Fleetcode%2F20%2F%25E4%25B8%25AD%25E7%25BC%2580%25E8%25A1%25A8%25E8%25BE%25BE%25E5%25BC%258F.ipynb%23W0sZmlsZQ%253D%253D%22%2C%22path%22%3A%22%2Fd%3A%2Falgorithm%2Fleetcode%2F20%2F%E4%B8%AD%E7%BC%80%E8%A1%A8%E8%BE%BE%E5%BC%8F.ipynb%22%2C%22scheme%22%3A%22vscode-notebook-cell%22%2C%22fragment%22%3A%22W0sZmlsZQ%3D%3D%22%7D%2C%22pos%22%3A%7B%22line%22%3A0%2C%22character%22%3A7%7D%7D%5D%5D \"Go to definition\")：相当于 [`a < b`](command:_github.copilot.openSymbolFromReferences?%5B%22a%20%3C%20b%22%2C%5B%7B%22uri%22%3A%7B%22%24mid%22%3A1%2C%22fsPath%22%3A%22d%3A%5C%5Calgorithm%5C%5Cleetcode%5C%5C20%5C%5C%E4%B8%AD%E7%BC%80%E8%A1%A8%E8%BE%BE%E5%BC%8F.ipynb%22%2C%22_sep%22%3A1%2C%22external%22%3A%22vscode-notebook-cell%3A%2Fd%253A%2Falgorithm%2Fleetcode%2F20%2F%25E4%25B8%25AD%25E7%25BC%2580%25E8%25A1%25A8%25E8%25BE%25BE%25E5%25BC%258F.ipynb%23W0sZmlsZQ%253D%253D%22%2C%22path%22%3A%22%2Fd%3A%2Falgorithm%2Fleetcode%2F20%2F%E4%B8%AD%E7%BC%80%E8%A1%A8%E8%BE%BE%E5%BC%8F.ipynb%22%2C%22scheme%22%3A%22vscode-notebook-cell%22%2C%22fragment%22%3A%22W0sZmlsZQ%3D%3D%22%7D%2C%22pos%22%3A%7B%22line%22%3A44%2C%22character%22%3A19%7D%7D%5D%5D \"Go to definition\")\n",
    "   - [`operator.le(a, b)`](command:_github.copilot.openSymbolFromReferences?%5B%22operator.le(a%2C%20b)%22%2C%5B%7B%22uri%22%3A%7B%22%24mid%22%3A1%2C%22fsPath%22%3A%22d%3A%5C%5Calgorithm%5C%5Cleetcode%5C%5C20%5C%5C%E4%B8%AD%E7%BC%80%E8%A1%A8%E8%BE%BE%E5%BC%8F.ipynb%22%2C%22_sep%22%3A1%2C%22external%22%3A%22vscode-notebook-cell%3A%2Fd%253A%2Falgorithm%2Fleetcode%2F20%2F%25E4%25B8%25AD%25E7%25BC%2580%25E8%25A1%25A8%25E8%25BE%25BE%25E5%25BC%258F.ipynb%23W0sZmlsZQ%253D%253D%22%2C%22path%22%3A%22%2Fd%3A%2Falgorithm%2Fleetcode%2F20%2F%E4%B8%AD%E7%BC%80%E8%A1%A8%E8%BE%BE%E5%BC%8F.ipynb%22%2C%22scheme%22%3A%22vscode-notebook-cell%22%2C%22fragment%22%3A%22W0sZmlsZQ%3D%3D%22%7D%2C%22pos%22%3A%7B%22line%22%3A0%2C%22character%22%3A7%7D%7D%5D%5D \"Go to definition\")：相当于 [`a <= b`](command:_github.copilot.openSymbolFromReferences?%5B%22a%20%3C%3D%20b%22%2C%5B%7B%22uri%22%3A%7B%22%24mid%22%3A1%2C%22fsPath%22%3A%22d%3A%5C%5Calgorithm%5C%5Cleetcode%5C%5C20%5C%5C%E4%B8%AD%E7%BC%80%E8%A1%A8%E8%BE%BE%E5%BC%8F.ipynb%22%2C%22_sep%22%3A1%2C%22external%22%3A%22vscode-notebook-cell%3A%2Fd%253A%2Falgorithm%2Fleetcode%2F20%2F%25E4%25B8%25AD%25E7%25BC%2580%25E8%25A1%25A8%25E8%25BE%25BE%25E5%25BC%258F.ipynb%23W0sZmlsZQ%253D%253D%22%2C%22path%22%3A%22%2Fd%3A%2Falgorithm%2Fleetcode%2F20%2F%E4%B8%AD%E7%BC%80%E8%A1%A8%E8%BE%BE%E5%BC%8F.ipynb%22%2C%22scheme%22%3A%22vscode-notebook-cell%22%2C%22fragment%22%3A%22W0sZmlsZQ%3D%3D%22%7D%2C%22pos%22%3A%7B%22line%22%3A44%2C%22character%22%3A19%7D%7D%5D%5D \"Go to definition\")\n",
    "   - [`operator.gt(a, b)`](command:_github.copilot.openSymbolFromReferences?%5B%22operator.gt(a%2C%20b)%22%2C%5B%7B%22uri%22%3A%7B%22%24mid%22%3A1%2C%22fsPath%22%3A%22d%3A%5C%5Calgorithm%5C%5Cleetcode%5C%5C20%5C%5C%E4%B8%AD%E7%BC%80%E8%A1%A8%E8%BE%BE%E5%BC%8F.ipynb%22%2C%22_sep%22%3A1%2C%22external%22%3A%22vscode-notebook-cell%3A%2Fd%253A%2Falgorithm%2Fleetcode%2F20%2F%25E4%25B8%25AD%25E7%25BC%2580%25E8%25A1%25A8%25E8%25BE%25BE%25E5%25BC%258F.ipynb%23W0sZmlsZQ%253D%253D%22%2C%22path%22%3A%22%2Fd%3A%2Falgorithm%2Fleetcode%2F20%2F%E4%B8%AD%E7%BC%80%E8%A1%A8%E8%BE%BE%E5%BC%8F.ipynb%22%2C%22scheme%22%3A%22vscode-notebook-cell%22%2C%22fragment%22%3A%22W0sZmlsZQ%3D%3D%22%7D%2C%22pos%22%3A%7B%22line%22%3A0%2C%22character%22%3A7%7D%7D%5D%5D \"Go to definition\")：相当于 [`a > b`](command:_github.copilot.openSymbolFromReferences?%5B%22a%20%3E%20b%22%2C%5B%7B%22uri%22%3A%7B%22%24mid%22%3A1%2C%22fsPath%22%3A%22d%3A%5C%5Calgorithm%5C%5Cleetcode%5C%5C20%5C%5C%E4%B8%AD%E7%BC%80%E8%A1%A8%E8%BE%BE%E5%BC%8F.ipynb%22%2C%22_sep%22%3A1%2C%22external%22%3A%22vscode-notebook-cell%3A%2Fd%253A%2Falgorithm%2Fleetcode%2F20%2F%25E4%25B8%25AD%25E7%25BC%2580%25E8%25A1%25A8%25E8%25BE%25BE%25E5%25BC%258F.ipynb%23W0sZmlsZQ%253D%253D%22%2C%22path%22%3A%22%2Fd%3A%2Falgorithm%2Fleetcode%2F20%2F%E4%B8%AD%E7%BC%80%E8%A1%A8%E8%BE%BE%E5%BC%8F.ipynb%22%2C%22scheme%22%3A%22vscode-notebook-cell%22%2C%22fragment%22%3A%22W0sZmlsZQ%3D%3D%22%7D%2C%22pos%22%3A%7B%22line%22%3A44%2C%22character%22%3A19%7D%7D%5D%5D \"Go to definition\")\n",
    "   - [`operator.ge(a, b)`](command:_github.copilot.openSymbolFromReferences?%5B%22operator.ge(a%2C%20b)%22%2C%5B%7B%22uri%22%3A%7B%22%24mid%22%3A1%2C%22fsPath%22%3A%22d%3A%5C%5Calgorithm%5C%5Cleetcode%5C%5C20%5C%5C%E4%B8%AD%E7%BC%80%E8%A1%A8%E8%BE%BE%E5%BC%8F.ipynb%22%2C%22_sep%22%3A1%2C%22external%22%3A%22vscode-notebook-cell%3A%2Fd%253A%2Falgorithm%2Fleetcode%2F20%2F%25E4%25B8%25AD%25E7%25BC%2580%25E8%25A1%25A8%25E8%25BE%25BE%25E5%25BC%258F.ipynb%23W0sZmlsZQ%253D%253D%22%2C%22path%22%3A%22%2Fd%3A%2Falgorithm%2Fleetcode%2F20%2F%E4%B8%AD%E7%BC%80%E8%A1%A8%E8%BE%BE%E5%BC%8F.ipynb%22%2C%22scheme%22%3A%22vscode-notebook-cell%22%2C%22fragment%22%3A%22W0sZmlsZQ%3D%3D%22%7D%2C%22pos%22%3A%7B%22line%22%3A0%2C%22character%22%3A7%7D%7D%5D%5D \"Go to definition\")：相当于 [`a >= b`](command:_github.copilot.openSymbolFromReferences?%5B%22a%20%3E%3D%20b%22%2C%5B%7B%22uri%22%3A%7B%22%24mid%22%3A1%2C%22fsPath%22%3A%22d%3A%5C%5Calgorithm%5C%5Cleetcode%5C%5C20%5C%5C%E4%B8%AD%E7%BC%80%E8%A1%A8%E8%BE%BE%E5%BC%8F.ipynb%22%2C%22_sep%22%3A1%2C%22external%22%3A%22vscode-notebook-cell%3A%2Fd%253A%2Falgorithm%2Fleetcode%2F20%2F%25E4%25B8%25AD%25E7%25BC%2580%25E8%25A1%25A8%25E8%25BE%25BE%25E5%25BC%258F.ipynb%23W0sZmlsZQ%253D%253D%22%2C%22path%22%3A%22%2Fd%3A%2Falgorithm%2Fleetcode%2F20%2F%E4%B8%AD%E7%BC%80%E8%A1%A8%E8%BE%BE%E5%BC%8F.ipynb%22%2C%22scheme%22%3A%22vscode-notebook-cell%22%2C%22fragment%22%3A%22W0sZmlsZQ%3D%3D%22%7D%2C%22pos%22%3A%7B%22line%22%3A44%2C%22character%22%3A19%7D%7D%5D%5D \"Go to definition\")\n",
    "\n",
    "3. **逻辑运算符**：\n",
    "   - [`operator.and_(a, b)`](command:_github.copilot.openSymbolFromReferences?%5B%22operator.and_(a%2C%20b)%22%2C%5B%7B%22uri%22%3A%7B%22%24mid%22%3A1%2C%22fsPath%22%3A%22d%3A%5C%5Calgorithm%5C%5Cleetcode%5C%5C20%5C%5C%E4%B8%AD%E7%BC%80%E8%A1%A8%E8%BE%BE%E5%BC%8F.ipynb%22%2C%22_sep%22%3A1%2C%22external%22%3A%22vscode-notebook-cell%3A%2Fd%253A%2Falgorithm%2Fleetcode%2F20%2F%25E4%25B8%25AD%25E7%25BC%2580%25E8%25A1%25A8%25E8%25BE%25BE%25E5%25BC%258F.ipynb%23W0sZmlsZQ%253D%253D%22%2C%22path%22%3A%22%2Fd%3A%2Falgorithm%2Fleetcode%2F20%2F%E4%B8%AD%E7%BC%80%E8%A1%A8%E8%BE%BE%E5%BC%8F.ipynb%22%2C%22scheme%22%3A%22vscode-notebook-cell%22%2C%22fragment%22%3A%22W0sZmlsZQ%3D%3D%22%7D%2C%22pos%22%3A%7B%22line%22%3A0%2C%22character%22%3A7%7D%7D%5D%5D \"Go to definition\")：相当于 [`a & b`](command:_github.copilot.openSymbolFromReferences?%5B%22a%20%26%20b%22%2C%5B%7B%22uri%22%3A%7B%22%24mid%22%3A1%2C%22fsPath%22%3A%22d%3A%5C%5Calgorithm%5C%5Cleetcode%5C%5C20%5C%5C%E4%B8%AD%E7%BC%80%E8%A1%A8%E8%BE%BE%E5%BC%8F.ipynb%22%2C%22_sep%22%3A1%2C%22external%22%3A%22vscode-notebook-cell%3A%2Fd%253A%2Falgorithm%2Fleetcode%2F20%2F%25E4%25B8%25AD%25E7%25BC%2580%25E8%25A1%25A8%25E8%25BE%25BE%25E5%25BC%258F.ipynb%23W0sZmlsZQ%253D%253D%22%2C%22path%22%3A%22%2Fd%3A%2Falgorithm%2Fleetcode%2F20%2F%E4%B8%AD%E7%BC%80%E8%A1%A8%E8%BE%BE%E5%BC%8F.ipynb%22%2C%22scheme%22%3A%22vscode-notebook-cell%22%2C%22fragment%22%3A%22W0sZmlsZQ%3D%3D%22%7D%2C%22pos%22%3A%7B%22line%22%3A44%2C%22character%22%3A19%7D%7D%5D%5D \"Go to definition\")\n",
    "   - [`operator.or_(a, b)`](command:_github.copilot.openSymbolFromReferences?%5B%22operator.or_(a%2C%20b)%22%2C%5B%7B%22uri%22%3A%7B%22%24mid%22%3A1%2C%22fsPath%22%3A%22d%3A%5C%5Calgorithm%5C%5Cleetcode%5C%5C20%5C%5C%E4%B8%AD%E7%BC%80%E8%A1%A8%E8%BE%BE%E5%BC%8F.ipynb%22%2C%22_sep%22%3A1%2C%22external%22%3A%22vscode-notebook-cell%3A%2Fd%253A%2Falgorithm%2Fleetcode%2F20%2F%25E4%25B8%25AD%25E7%25BC%2580%25E8%25A1%25A8%25E8%25BE%25BE%25E5%25BC%258F.ipynb%23W0sZmlsZQ%253D%253D%22%2C%22path%22%3A%22%2Fd%3A%2Falgorithm%2Fleetcode%2F20%2F%E4%B8%AD%E7%BC%80%E8%A1%A8%E8%BE%BE%E5%BC%8F.ipynb%22%2C%22scheme%22%3A%22vscode-notebook-cell%22%2C%22fragment%22%3A%22W0sZmlsZQ%3D%3D%22%7D%2C%22pos%22%3A%7B%22line%22%3A0%2C%22character%22%3A7%7D%7D%5D%5D \"Go to definition\")：相当于 [`a | b`](command:_github.copilot.openSymbolFromReferences?%5B%22a%20%7C%20b%22%2C%5B%7B%22uri%22%3A%7B%22%24mid%22%3A1%2C%22fsPath%22%3A%22d%3A%5C%5Calgorithm%5C%5Cleetcode%5C%5C20%5C%5C%E4%B8%AD%E7%BC%80%E8%A1%A8%E8%BE%BE%E5%BC%8F.ipynb%22%2C%22_sep%22%3A1%2C%22external%22%3A%22vscode-notebook-cell%3A%2Fd%253A%2Falgorithm%2Fleetcode%2F20%2F%25E4%25B8%25AD%25E7%25BC%2580%25E8%25A1%25A8%25E8%25BE%25BE%25E5%25BC%258F.ipynb%23W0sZmlsZQ%253D%253D%22%2C%22path%22%3A%22%2Fd%3A%2Falgorithm%2Fleetcode%2F20%2F%E4%B8%AD%E7%BC%80%E8%A1%A8%E8%BE%BE%E5%BC%8F.ipynb%22%2C%22scheme%22%3A%22vscode-notebook-cell%22%2C%22fragment%22%3A%22W0sZmlsZQ%3D%3D%22%7D%2C%22pos%22%3A%7B%22line%22%3A44%2C%22character%22%3A19%7D%7D%5D%5D \"Go to definition\")\n",
    "   - [`operator.not_(a)`](command:_github.copilot.openSymbolFromReferences?%5B%22operator.not_(a)%22%2C%5B%7B%22uri%22%3A%7B%22%24mid%22%3A1%2C%22fsPath%22%3A%22d%3A%5C%5Calgorithm%5C%5Cleetcode%5C%5C20%5C%5C%E4%B8%AD%E7%BC%80%E8%A1%A8%E8%BE%BE%E5%BC%8F.ipynb%22%2C%22_sep%22%3A1%2C%22external%22%3A%22vscode-notebook-cell%3A%2Fd%253A%2Falgorithm%2Fleetcode%2F20%2F%25E4%25B8%25AD%25E7%25BC%2580%25E8%25A1%25A8%25E8%25BE%25BE%25E5%25BC%258F.ipynb%23W0sZmlsZQ%253D%253D%22%2C%22path%22%3A%22%2Fd%3A%2Falgorithm%2Fleetcode%2F20%2F%E4%B8%AD%E7%BC%80%E8%A1%A8%E8%BE%BE%E5%BC%8F.ipynb%22%2C%22scheme%22%3A%22vscode-notebook-cell%22%2C%22fragment%22%3A%22W0sZmlsZQ%3D%3D%22%7D%2C%22pos%22%3A%7B%22line%22%3A0%2C%22character%22%3A7%7D%7D%5D%5D \"Go to definition\")：相当于 [`not a`](command:_github.copilot.openSymbolFromReferences?%5B%22not%20a%22%2C%5B%7B%22uri%22%3A%7B%22%24mid%22%3A1%2C%22fsPath%22%3A%22d%3A%5C%5Calgorithm%5C%5Cleetcode%5C%5C20%5C%5C%E4%B8%AD%E7%BC%80%E8%A1%A8%E8%BE%BE%E5%BC%8F.ipynb%22%2C%22_sep%22%3A1%2C%22external%22%3A%22vscode-notebook-cell%3A%2Fd%253A%2Falgorithm%2Fleetcode%2F20%2F%25E4%25B8%25AD%25E7%25BC%2580%25E8%25A1%25A8%25E8%25BE%25BE%25E5%25BC%258F.ipynb%23W0sZmlsZQ%253D%253D%22%2C%22path%22%3A%22%2Fd%3A%2Falgorithm%2Fleetcode%2F20%2F%E4%B8%AD%E7%BC%80%E8%A1%A8%E8%BE%BE%E5%BC%8F.ipynb%22%2C%22scheme%22%3A%22vscode-notebook-cell%22%2C%22fragment%22%3A%22W0sZmlsZQ%3D%3D%22%7D%2C%22pos%22%3A%7B%22line%22%3A44%2C%22character%22%3A19%7D%7D%5D%5D \"Go to definition\")\n",
    "\n",
    "4. **其他运算符**：\n",
    "   - [`operator.concat(a, b)`](command:_github.copilot.openSymbolFromReferences?%5B%22operator.concat(a%2C%20b)%22%2C%5B%7B%22uri%22%3A%7B%22%24mid%22%3A1%2C%22fsPath%22%3A%22d%3A%5C%5Calgorithm%5C%5Cleetcode%5C%5C20%5C%5C%E4%B8%AD%E7%BC%80%E8%A1%A8%E8%BE%BE%E5%BC%8F.ipynb%22%2C%22_sep%22%3A1%2C%22external%22%3A%22vscode-notebook-cell%3A%2Fd%253A%2Falgorithm%2Fleetcode%2F20%2F%25E4%25B8%25AD%25E7%25BC%2580%25E8%25A1%25A8%25E8%25BE%25BE%25E5%25BC%258F.ipynb%23W0sZmlsZQ%253D%253D%22%2C%22path%22%3A%22%2Fd%3A%2Falgorithm%2Fleetcode%2F20%2F%E4%B8%AD%E7%BC%80%E8%A1%A8%E8%BE%BE%E5%BC%8F.ipynb%22%2C%22scheme%22%3A%22vscode-notebook-cell%22%2C%22fragment%22%3A%22W0sZmlsZQ%3D%3D%22%7D%2C%22pos%22%3A%7B%22line%22%3A0%2C%22character%22%3A7%7D%7D%5D%5D \"Go to definition\")：相当于 [`a + b`](command:_github.copilot.openSymbolFromReferences?%5B%22a%20%2B%20b%22%2C%5B%7B%22uri%22%3A%7B%22%24mid%22%3A1%2C%22fsPath%22%3A%22d%3A%5C%5Calgorithm%5C%5Cleetcode%5C%5C20%5C%5C%E4%B8%AD%E7%BC%80%E8%A1%A8%E8%BE%BE%E5%BC%8F.ipynb%22%2C%22_sep%22%3A1%2C%22external%22%3A%22vscode-notebook-cell%3A%2Fd%253A%2Falgorithm%2Fleetcode%2F20%2F%25E4%25B8%25AD%25E7%25BC%2580%25E8%25A1%25A8%25E8%25BE%25BE%25E5%25BC%258F.ipynb%23W0sZmlsZQ%253D%253D%22%2C%22path%22%3A%22%2Fd%3A%2Falgorithm%2Fleetcode%2F20%2F%E4%B8%AD%E7%BC%80%E8%A1%A8%E8%BE%BE%E5%BC%8F.ipynb%22%2C%22scheme%22%3A%22vscode-notebook-cell%22%2C%22fragment%22%3A%22W0sZmlsZQ%3D%3D%22%7D%2C%22pos%22%3A%7B%22line%22%3A44%2C%22character%22%3A19%7D%7D%5D%5D \"Go to definition\")，用于连接序列\n",
    "   - [`operator.contains(a, b)`](command:_github.copilot.openSymbolFromReferences?%5B%22operator.contains(a%2C%20b)%22%2C%5B%7B%22uri%22%3A%7B%22%24mid%22%3A1%2C%22fsPath%22%3A%22d%3A%5C%5Calgorithm%5C%5Cleetcode%5C%5C20%5C%5C%E4%B8%AD%E7%BC%80%E8%A1%A8%E8%BE%BE%E5%BC%8F.ipynb%22%2C%22_sep%22%3A1%2C%22external%22%3A%22vscode-notebook-cell%3A%2Fd%253A%2Falgorithm%2Fleetcode%2F20%2F%25E4%25B8%25AD%25E7%25BC%2580%25E8%25A1%25A8%25E8%25BE%25BE%25E5%25BC%258F.ipynb%23W0sZmlsZQ%253D%253D%22%2C%22path%22%3A%22%2Fd%3A%2Falgorithm%2Fleetcode%2F20%2F%E4%B8%AD%E7%BC%80%E8%A1%A8%E8%BE%BE%E5%BC%8F.ipynb%22%2C%22scheme%22%3A%22vscode-notebook-cell%22%2C%22fragment%22%3A%22W0sZmlsZQ%3D%3D%22%7D%2C%22pos%22%3A%7B%22line%22%3A0%2C%22character%22%3A7%7D%7D%5D%5D \"Go to definition\")：相当于 [`b in a`](command:_github.copilot.openSymbolFromReferences?%5B%22b%20in%20a%22%2C%5B%7B%22uri%22%3A%7B%22%24mid%22%3A1%2C%22fsPath%22%3A%22d%3A%5C%5Calgorithm%5C%5Cleetcode%5C%5C20%5C%5C%E4%B8%AD%E7%BC%80%E8%A1%A8%E8%BE%BE%E5%BC%8F.ipynb%22%2C%22_sep%22%3A1%2C%22external%22%3A%22vscode-notebook-cell%3A%2Fd%253A%2Falgorithm%2Fleetcode%2F20%2F%25E4%25B8%25AD%25E7%25BC%2580%25E8%25A1%25A8%25E8%25BE%25BE%25E5%25BC%258F.ipynb%23W0sZmlsZQ%253D%253D%22%2C%22path%22%3A%22%2Fd%3A%2Falgorithm%2Fleetcode%2F20%2F%E4%B8%AD%E7%BC%80%E8%A1%A8%E8%BE%BE%E5%BC%8F.ipynb%22%2C%22scheme%22%3A%22vscode-notebook-cell%22%2C%22fragment%22%3A%22W0sZmlsZQ%3D%3D%22%7D%2C%22pos%22%3A%7B%22line%22%3A44%2C%22character%22%3A19%7D%7D%5D%5D \"Go to definition\")\n",
    "   - [`operator.itemgetter(*items)`](command:_github.copilot.openSymbolFromReferences?%5B%22operator.itemgetter(*items)%22%2C%5B%7B%22uri%22%3A%7B%22%24mid%22%3A1%2C%22fsPath%22%3A%22d%3A%5C%5Calgorithm%5C%5Cleetcode%5C%5C20%5C%5C%E4%B8%AD%E7%BC%80%E8%A1%A8%E8%BE%BE%E5%BC%8F.ipynb%22%2C%22_sep%22%3A1%2C%22external%22%3A%22vscode-notebook-cell%3A%2Fd%253A%2Falgorithm%2Fleetcode%2F20%2F%25E4%25B8%25AD%25E7%25BC%2580%25E8%25A1%25A8%25E8%25BE%25BE%25E5%25BC%258F.ipynb%23W0sZmlsZQ%253D%253D%22%2C%22path%22%3A%22%2Fd%3A%2Falgorithm%2Fleetcode%2F20%2F%E4%B8%AD%E7%BC%80%E8%A1%A8%E8%BE%BE%E5%BC%8F.ipynb%22%2C%22scheme%22%3A%22vscode-notebook-cell%22%2C%22fragment%22%3A%22W0sZmlsZQ%3D%3D%22%7D%2C%22pos%22%3A%7B%22line%22%3A0%2C%22character%22%3A7%7D%7D%5D%5D \"Go to definition\")：用于获取对象的某些元素\n",
    "   - [`operator.attrgetter(*attrs)`](command:_github.copilot.openSymbolFromReferences?%5B%22operator.attrgetter(*attrs)%22%2C%5B%7B%22uri%22%3A%7B%22%24mid%22%3A1%2C%22fsPath%22%3A%22d%3A%5C%5Calgorithm%5C%5Cleetcode%5C%5C20%5C%5C%E4%B8%AD%E7%BC%80%E8%A1%A8%E8%BE%BE%E5%BC%8F.ipynb%22%2C%22_sep%22%3A1%2C%22external%22%3A%22vscode-notebook-cell%3A%2Fd%253A%2Falgorithm%2Fleetcode%2F20%2F%25E4%25B8%25AD%25E7%25BC%2580%25E8%25A1%25A8%25E8%25BE%25BE%25E5%25BC%258F.ipynb%23W0sZmlsZQ%253D%253D%22%2C%22path%22%3A%22%2Fd%3A%2Falgorithm%2Fleetcode%2F20%2F%E4%B8%AD%E7%BC%80%E8%A1%A8%E8%BE%BE%E5%BC%8F.ipynb%22%2C%22scheme%22%3A%22vscode-notebook-cell%22%2C%22fragment%22%3A%22W0sZmlsZQ%3D%3D%22%7D%2C%22pos%22%3A%7B%22line%22%3A0%2C%22character%22%3A7%7D%7D%5D%5D \"Go to definition\")：用于获取对象的某些属性\n",
    "   - [`operator.methodcaller(name, *args, **kwargs)`](command:_github.copilot.openSymbolFromReferences?%5B%22operator.methodcaller(name%2C%20*args%2C%20**kwargs)%22%2C%5B%7B%22uri%22%3A%7B%22%24mid%22%3A1%2C%22fsPath%22%3A%22d%3A%5C%5Calgorithm%5C%5Cleetcode%5C%5C20%5C%5C%E4%B8%AD%E7%BC%80%E8%A1%A8%E8%BE%BE%E5%BC%8F.ipynb%22%2C%22_sep%22%3A1%2C%22external%22%3A%22vscode-notebook-cell%3A%2Fd%253A%2Falgorithm%2Fleetcode%2F20%2F%25E4%25B8%25AD%25E7%25BC%2580%25E8%25A1%25A8%25E8%25BE%25BE%25E5%25BC%258F.ipynb%23W0sZmlsZQ%253D%253D%22%2C%22path%22%3A%22%2Fd%3A%2Falgorithm%2Fleetcode%2F20%2F%E4%B8%AD%E7%BC%80%E8%A1%A8%E8%BE%BE%E5%BC%8F.ipynb%22%2C%22scheme%22%3A%22vscode-notebook-cell%22%2C%22fragment%22%3A%22W0sZmlsZQ%3D%3D%22%7D%2C%22pos%22%3A%7B%22line%22%3A0%2C%22character%22%3A7%7D%7D%5D%5D \"Go to definition\")：用于调用对象的某个方法\n",
    "\n",
    "\n",
    "\n"
   ]
  },
  {
   "cell_type": "markdown",
   "metadata": {},
   "source": [
    "\n",
    "\n",
    "[`operator`](command:_github.copilot.openSymbolFromReferences?%5B%22operator%22%2C%5B%7B%22uri%22%3A%7B%22%24mid%22%3A1%2C%22fsPath%22%3A%22d%3A%5C%5Calgorithm%5C%5Cleetcode%5C%5C20%5C%5C%E4%B8%AD%E7%BC%80%E8%A1%A8%E8%BE%BE%E5%BC%8F.ipynb%22%2C%22_sep%22%3A1%2C%22external%22%3A%22vscode-notebook-cell%3A%2Fd%253A%2Falgorithm%2Fleetcode%2F20%2F%25E4%25B8%25AD%25E7%25BC%2580%25E8%25A1%25A8%25E8%25BE%25BE%25E5%25BC%258F.ipynb%23W0sZmlsZQ%253D%253D%22%2C%22path%22%3A%22%2Fd%3A%2Falgorithm%2Fleetcode%2F20%2F%E4%B8%AD%E7%BC%80%E8%A1%A8%E8%BE%BE%E5%BC%8F.ipynb%22%2C%22scheme%22%3A%22vscode-notebook-cell%22%2C%22fragment%22%3A%22W0sZmlsZQ%3D%3D%22%7D%2C%22pos%22%3A%7B%22line%22%3A0%2C%22character%22%3A7%7D%7D%5D%5D \"Go to definition\") 模块提供的这些函数可以使代码更加简洁和易读，特别是在需要将运算符作为参数传递给其他函数时非常有用。"
   ]
  },
  {
   "cell_type": "code",
   "execution_count": 3,
   "metadata": {},
   "outputs": [
    {
     "name": "stdout",
     "output_type": "stream",
     "text": [
      "5\n",
      "6\n",
      "False\n",
      "True\n",
      "False\n",
      "True\n",
      "True\n",
      "(2, 4)\n",
      "Alice\n",
      "HELLO\n"
     ]
    }
   ],
   "source": [
    "import operator\n",
    "\n",
    "# 算术运算\n",
    "print(operator.add(2, 3))  # 输出: 5\n",
    "print(operator.mul(2, 3))  # 输出: 6\n",
    "\n",
    "# 比较运算\n",
    "print(operator.eq(2, 3))   # 输出: False\n",
    "print(operator.lt(2, 3))   # 输出: True\n",
    "\n",
    "# 逻辑运算\n",
    "print(operator.and_(True, False))  # 输出: False\n",
    "print(operator.or_(True, False))   # 输出: True\n",
    "\n",
    "# 其他运算\n",
    "lst = [1, 2, 3, 4]\n",
    "print(operator.contains(lst, 3))  # 输出: True\n",
    "\n",
    "# 使用 itemgetter 获取元素\n",
    "getter = operator.itemgetter(1, 3)\n",
    "print(getter(lst))  # 输出: (2, 4)\n",
    "\n",
    "# 使用 attrgetter 获取属性\n",
    "class Person:\n",
    "    def __init__(self, name, age):\n",
    "        self.name = name\n",
    "        self.age = age\n",
    "\n",
    "p = Person(\"Alice\", 30)\n",
    "name_getter = operator.attrgetter('name')\n",
    "print(name_getter(p))  # 输出: Alice\n",
    "\n",
    "# 使用 methodcaller 调用方法\n",
    "method_caller = operator.methodcaller('upper')\n",
    "print(method_caller(\"hello\"))  # 输出: HELLO"
   ]
  }
 ],
 "metadata": {
  "kernelspec": {
   "display_name": "t1",
   "language": "python",
   "name": "python3"
  },
  "language_info": {
   "codemirror_mode": {
    "name": "ipython",
    "version": 3
   },
   "file_extension": ".py",
   "mimetype": "text/x-python",
   "name": "python",
   "nbconvert_exporter": "python",
   "pygments_lexer": "ipython3",
   "version": "3.10.13"
  }
 },
 "nbformat": 4,
 "nbformat_minor": 2
}
